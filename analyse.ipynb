{
 "cells": [
  {
   "cell_type": "code",
   "execution_count": 19,
   "id": "8d8393bb",
   "metadata": {},
   "outputs": [],
   "source": [
    "!pip install transformers -q"
   ]
  },
  {
   "cell_type": "code",
   "execution_count": 20,
   "id": "7a1f05fa",
   "metadata": {},
   "outputs": [
    {
     "name": "stderr",
     "output_type": "stream",
     "text": [
      "/home/gwynbleidd/.local/share/virtualenvs/TheIndegenous-mh9jX6hz/lib/python3.10/site-packages/tqdm/auto.py:22: TqdmWarning: IProgress not found. Please update jupyter and ipywidgets. See https://ipywidgets.readthedocs.io/en/stable/user_install.html\n",
      "  from .autonotebook import tqdm as notebook_tqdm\n",
      "None of PyTorch, TensorFlow >= 2.0, or Flax have been found. Models won't be available and only tokenizers, configuration and file/data utilities can be used.\n"
     ]
    }
   ],
   "source": [
    "from transformers import pipeline"
   ]
  },
  {
   "cell_type": "code",
   "execution_count": 16,
   "id": "28ca62be",
   "metadata": {},
   "outputs": [
    {
     "name": "stdout",
     "output_type": "stream",
     "text": [
      "                                                Title  \\\n",
      "0                  Sri Lanka's last indigenous people   \n",
      "1   Protest In Guwahati Demanding Land Allocation ...   \n",
      "2   B.C. reveals 89-point action plan to advance t...   \n",
      "3   Study shows higher COVID-19 death rates for In...   \n",
      "4   Pope meets Canada Indigenous groups seeking ap...   \n",
      "..                                                ...   \n",
      "94  ‘Exceptional’ times could secure indigenous pe...   \n",
      "95  Brazil court upholds ban on missionaries tryin...   \n",
      "96  World Indigenous Peoples Day: How net-zero cli...   \n",
      "97  $140 million to improve health services for in...   \n",
      "98  Seattle finalizes Indigenous Peoples Day, June...   \n",
      "\n",
      "                                              Content  \n",
      "0   \"This is our cave,\" said the man. He was tall ...  \n",
      "1   POPULAR TAGS FOLLOW US ON:This material may no...  \n",
      "2   The province has unveiled a five-year, 89-poin...  \n",
      "3   American Indians and Alaska Natives appear to ...  \n",
      "4   Pope Francis has heard first-hand the horrors ...  \n",
      "..                                                ...  \n",
      "94  While the COVID-19 pandemic has exposed inequa...  \n",
      "95  Brazil’s highest court has upheld a ban on mis...  \n",
      "96  Promotion of net-zero climate targets may alie...  \n",
      "97  Today is National Close the Gap Day, a day to ...  \n",
      "98  The Seattle City Council voted 7-0 on Tuesday ...  \n",
      "\n",
      "[99 rows x 2 columns]\n"
     ]
    }
   ],
   "source": [
    "import pandas as pd\n",
    "df = pd.read_csv('./scrapeddatafinal.csv')\n",
    "print(df)"
   ]
  },
  {
   "cell_type": "code",
   "execution_count": 17,
   "id": "0746d8d5",
   "metadata": {},
   "outputs": [],
   "source": [
    "df['Title'] = df['Title'].str.lower()\n",
    "df['Content'] = df['Content'].str.lower()"
   ]
  },
  {
   "cell_type": "code",
   "execution_count": 18,
   "id": "691fe824",
   "metadata": {},
   "outputs": [
    {
     "name": "stdout",
     "output_type": "stream",
     "text": [
      "                                                Title  \\\n",
      "0                  sri lanka's last indigenous people   \n",
      "1   protest in guwahati demanding land allocation ...   \n",
      "2   b.c. reveals 89-point action plan to advance t...   \n",
      "3   study shows higher covid-19 death rates for in...   \n",
      "4   pope meets canada indigenous groups seeking ap...   \n",
      "..                                                ...   \n",
      "94  ‘exceptional’ times could secure indigenous pe...   \n",
      "95  brazil court upholds ban on missionaries tryin...   \n",
      "96  world indigenous peoples day: how net-zero cli...   \n",
      "97  $140 million to improve health services for in...   \n",
      "98  seattle finalizes indigenous peoples day, june...   \n",
      "\n",
      "                                              Content  \n",
      "0   \"this is our cave,\" said the man. he was tall ...  \n",
      "1   popular tags follow us on:this material may no...  \n",
      "2   the province has unveiled a five-year, 89-poin...  \n",
      "3   american indians and alaska natives appear to ...  \n",
      "4   pope francis has heard first-hand the horrors ...  \n",
      "..                                                ...  \n",
      "94  while the covid-19 pandemic has exposed inequa...  \n",
      "95  brazil’s highest court has upheld a ban on mis...  \n",
      "96  promotion of net-zero climate targets may alie...  \n",
      "97  today is national close the gap day, a day to ...  \n",
      "98  the seattle city council voted 7-0 on tuesday ...  \n",
      "\n",
      "[99 rows x 2 columns]\n"
     ]
    }
   ],
   "source": [
    "print(df)"
   ]
  },
  {
   "cell_type": "code",
   "execution_count": null,
   "id": "7f739774",
   "metadata": {},
   "outputs": [],
   "source": []
  }
 ],
 "metadata": {
  "kernelspec": {
   "display_name": "Python 3 (ipykernel)",
   "language": "python",
   "name": "python3"
  },
  "language_info": {
   "codemirror_mode": {
    "name": "ipython",
    "version": 3
   },
   "file_extension": ".py",
   "mimetype": "text/x-python",
   "name": "python",
   "nbconvert_exporter": "python",
   "pygments_lexer": "ipython3",
   "version": "3.10.2"
  }
 },
 "nbformat": 4,
 "nbformat_minor": 5
}
